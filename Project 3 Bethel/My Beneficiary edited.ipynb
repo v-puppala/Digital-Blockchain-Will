{
 "cells": [
  {
   "cell_type": "code",
   "execution_count": 3,
   "metadata": {},
   "outputs": [
    {
     "data": {
      "text/plain": [
       "<function __main__.my_beneficiary(name, age, ssn)>"
      ]
     },
     "metadata": {},
     "output_type": "display_data"
    },
    {
     "name": "stderr",
     "output_type": "stream",
     "text": [
      "2023-05-16 19:27:12.374 \n",
      "  \u001b[33m\u001b[1mWarning:\u001b[0m to view this Streamlit app on a browser, run it with the following\n",
      "  command:\n",
      "\n",
      "    streamlit run c:\\Users\\17063\\anaconda3\\envs\\dev\\lib\\site-packages\\ipykernel_launcher.py [ARGUMENTS]\n"
     ]
    }
   ],
   "source": [
    "import streamlit as st\n",
    "\n",
    "def my_beneficiary(name, age, ssn):\n",
    " my_beneficiary ={\n",
    "     \"Name\": name,\n",
    "        \"Age\": age,\n",
    "        \"SSN\": ssn,\n",
    "        \"Property\": \"123 Main Street, City\",\n",
    " }\n",
    "display(my_beneficiary)\n",
    "# Perform the property assignment logic here\n",
    "# You can implement your own business logic based on the provided information\n",
    "def main():\n",
    "   st.title(\"my Beneficiary\")\n",
    "name = st.text_input(\"Enter beneficiary's name:\")\n",
    "age = st.number_input(\"Enter beneficiary's age:\", min_value=0, max_value=150)\n",
    "ssn = st.text_input(\"Enter beneficiary's SSN:\")\n",
    "   \n",
    "if name and age and ssn:\n",
    "        # Perform My Beneficiary\n",
    "        my_beneficiary= my_beneficiary(name, age, ssn)\n",
    "\n",
    "        # Display the Beneficiary details\n",
    "        st.subheader(\"Beneficiary Details\")\n",
    "        st.write(my_beneficiary)\n",
    "\n",
    "if __name__ == \"__main__\":\n",
    "    main()\n",
    "# Create a form for login information\n",
    "st.header(\"User Login\")\n",
    "username = st.text_input(\"Username\")\n",
    "password = st.text_input(\"Password\", type=\"password\")\n",
    "remember_me = st.checkbox(\"Remember Me\")\n",
    "\n",
    "# Store the login information\n",
    "if st.button(\"Login\"):\n",
    "    if username and password:\n",
    "        # Store the login credentials in a database or file\n",
    "        # You can implement your own logic here to save the credentials\n",
    "        # For simplicity, we'll just display the credentials for now\n",
    "        st.write(\"Username:\", username)\n",
    "        st.write(\"Password:\", password)\n",
    "        st.write(\"Remember Me:\", remember_me)\n",
    "    else:\n",
    "        st.warning(\"Please enter both username and password\")\n"
   ]
  }
 ],
 "metadata": {
  "kernelspec": {
   "display_name": "Python 3 (ipykernel)",
   "language": "python",
   "name": "python3"
  },
  "language_info": {
   "codemirror_mode": {
    "name": "ipython",
    "version": 3
   },
   "file_extension": ".py",
   "mimetype": "text/x-python",
   "name": "python",
   "nbconvert_exporter": "python",
   "pygments_lexer": "ipython3",
   "version": "3.8.13"
  }
 },
 "nbformat": 4,
 "nbformat_minor": 4
}
